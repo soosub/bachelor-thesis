{
 "cells": [
  {
   "cell_type": "markdown",
   "metadata": {},
   "source": [
    "##### Disclaimer\n",
    "Most of the code came from https://github.com/mstechly/quantum_tsp_tutorials/blob/master/tutorials/02_QAOA.ipynb (big thanks to Michał Stęchły, also for kindly responding to my emails), I adjusted some parts and played around with it. Using this I want to make a general programme that takes in a graph and an integer p, and then runs the rest itself. However, I have not been able to run it in Spyder or the like. Probably I should just adjust the virtual environment I am running in... - Joost"
   ]
  },
  {
   "cell_type": "markdown",
   "metadata": {},
   "source": [
    "### Defining the Graph"
   ]
  },
  {
   "cell_type": "code",
   "execution_count": 1,
   "metadata": {},
   "outputs": [],
   "source": [
    "first_graph = [(0, 1), (0, 2), (0, 3)]"
   ]
  },
  {
   "cell_type": "code",
   "execution_count": 2,
   "metadata": {},
   "outputs": [
    {
     "data": {
      "image/png": "[encoded data removed]",
      "text/plain": [
       "<Figure size 432x288 with 1 Axes>"
      ]
     },
     "metadata": {},
     "output_type": "display_data"
    }
   ],
   "source": [
    "import networkx as nx\n",
    "\n",
    "# making a graph object from the edge list first_graph\n",
    "G = nx.Graph()\n",
    "nodes = [3,2,1,0]\n",
    "\n",
    "for node in nodes:\n",
    "    G.add_node(node)\n",
    "for edge in first_graph:\n",
    "    G.add_edge(*edge)\n",
    "\n",
    "#plotting the graph\n",
    "pos=nx.spring_layout(G)\n",
    "nx.draw(G,pos=pos)\n",
    "labels = nx.draw_networkx_labels(G, pos=pos)"
   ]
  },
  {
   "cell_type": "markdown",
   "metadata": {},
   "source": [
    "### Importing "
   ]
  },
  {
   "cell_type": "code",
   "execution_count": 4,
   "metadata": {},
   "outputs": [],
   "source": [
    "import numpy as np\n",
    "from grove.pyqaoa.maxcut_qaoa import maxcut_qaoa\n",
    "import pyquil.api as api\n",
    "qvm_connection = api.QVMConnection()"
   ]
  },
  {
   "cell_type": "code",
   "execution_count": 5,
   "metadata": {},
   "outputs": [
    {
     "name": "stdout",
     "output_type": "stream",
     "text": [
      "I finally got it to work on a notebook!\n",
      " Still have to figure out how to get it to run on Spyder or some other interpreter (instead of a notebook) - Joost\n",
      "\n",
      "\n",
      "WARNING: Fast method for expectation will be used. Noise\n",
      "                     models will be ineffective\n",
      "\tParameters: [1.82462465 2.10044416 0.11439377 1.40428835] \n",
      "\tE => -2.1778030059273257\n",
      "\tParameters: [1.82462465 2.10044416 0.11439377 1.40428835] \n",
      "\tE => -1.9024646711139985\n",
      "\tParameters: [1.82462465 2.10044416 0.11439377 1.40428835] \n",
      "\tE => -2.049941773429535\n",
      "\tParameters: [1.77104004 1.93999357 0.11620271 1.55338824] \n",
      "\tE => -2.3168830642052853\n",
      "\tParameters: [1.77104004 1.93999357 0.11620271 1.55338824] \n",
      "\tE => -2.2887782348385466\n",
      "\tParameters: [1.77104004 1.93999357 0.11620271 1.55338824] \n",
      "\tE => -2.2500225395076088\n",
      "\tParameters: [1.77104004 1.93999357 0.11620271 1.55338824] \n",
      "\tE => -2.253076196600838\n",
      "\tParameters: [1.77104004 1.93999357 0.11620271 1.55338824] \n",
      "\tE => -2.2954508506271\n",
      "\tParameters: [1.77104004 1.93999357 0.11620271 1.55338824] \n",
      "\tE => -2.3140167938373266\n",
      "\tParameters: [1.77104004 1.93999357 0.11620271 1.55338824] \n",
      "\tE => -2.306300834113019\n",
      "\tParameters: [1.77104004 1.93999357 0.11620271 1.55338824] \n",
      "\tE => -2.3153292405887007\n",
      "\tParameters: [1.77104004 1.93999357 0.11620271 1.55338824] \n",
      "\tE => -2.3164664795591565\n",
      "\tParameters: [1.79316836 1.95921245 0.11461002 1.49734157] \n",
      "\tE => -2.318251847165629\n",
      "\tParameters: [1.80610868 1.92030073 0.11482234 1.50858536] \n",
      "\tE => -2.3208248079662313\n",
      "\tParameters: [1.80610868 1.92030073 0.11482234 1.50858536] \n",
      "\tE => -2.319357878399042\n",
      "\tParameters: [1.80610868 1.92030073 0.11482234 1.50858536] \n",
      "\tE => -2.3199650197104105\n",
      "\tParameters: [1.84668174 1.94502604 0.1126209  1.39870221] \n",
      "\tE => -2.33343695833711\n",
      "\tParameters: [1.84668174 1.94502604 0.1126209  1.39870221] \n",
      "\tE => -2.324963654725983\n",
      "\tParameters: [1.84668174 1.94502604 0.1126209  1.39870221] \n",
      "\tE => -2.332335478443121\n",
      "\tParameters: [1.84668174 1.94502604 0.1126209  1.39870221] \n",
      "\tE => -2.330613683363805\n",
      "\tParameters: [1.92869854 1.93676301 0.10956393 1.24526585] \n",
      "\tE => -2.3589784459924013\n",
      "\tParameters: [1.92869854 1.93676301 0.10956393 1.24526585] \n",
      "\tE => -2.353526521714481\n",
      "\tParameters: [1.92869854 1.93676301 0.10956393 1.24526585] \n",
      "\tE => -2.342217602178671\n",
      "\tParameters: [2.00315615 1.97905205 0.10518478 1.04126058] \n",
      "\tE => -2.3627706231895904\n",
      "\tParameters: [2.03077456 1.97359739 0.10434306 1.02327074] \n",
      "\tE => -2.3139364538277567\n",
      "\tParameters: [2.03698004 1.93987916 0.10431907 1.01563486] \n",
      "\tE => -2.346435472595832\n",
      "\tParameters: [2.03698004 1.93987916 0.10431907 1.01563486] \n",
      "\tE => -2.3658641237102978\n",
      "\tParameters: [2.03698004 1.93987916 0.10431907 1.01563486] \n",
      "\tE => -2.3690306746904435\n",
      "\tParameters: [2.03698004 1.93987916 0.10431907 1.01563486] \n",
      "\tE => -2.3709504174872276\n",
      "\tParameters: [2.03698004 1.93987916 0.10431907 1.01563486] \n",
      "\tE => -2.3717436099579334\n",
      "\tParameters: [2.03698004 1.93987916 0.10431907 1.01563486] \n",
      "\tE => -2.3729960989332466\n",
      "\tParameters: [2.03698004 1.93987916 0.10431907 1.01563486] \n",
      "\tE => -2.3733368040102363\n",
      "\tParameters: [2.00824613 1.93603398 0.10588564 1.09956663] \n",
      "\tE => -2.3741753922058484\n",
      "\tParameters: [2.00824613 1.93603398 0.10588564 1.09956663] \n",
      "\tE => -2.3731138710287696\n",
      "\tParameters: [2.00824613 1.93603398 0.10588564 1.09956663] \n",
      "\tE => -2.373146615049657\n",
      "\tParameters: [2.02016704 1.92965753 0.10537826 1.0659221 ] \n",
      "\tE => -2.3747619750502436\n",
      "\tParameters: [2.02016704 1.92965753 0.10537826 1.0659221 ] \n",
      "\tE => -2.373597665610991\n",
      "\tParameters: [2.02016704 1.92965753 0.10537826 1.0659221 ] \n",
      "\tE => -2.3747390582399817\n",
      "\tParameters: [2.02016704 1.92965753 0.10537826 1.0659221 ] \n",
      "\tE => -2.374611055111405\n",
      "\tParameters: [2.02016704 1.92965753 0.10537826 1.0659221 ] \n",
      "\tE => -2.3746949784186624\n",
      "\tParameters: [2.01500603 1.93637643 0.10555427 1.07931959] \n",
      "\tE => -2.374796214679476\n",
      "\tParameters: [2.02336118 1.9372676  0.10512234 1.05507781] \n",
      "\tE => -2.3749100369865763\n",
      "\tParameters: [2.02266172 1.9371683  0.10521226 1.05930885] \n",
      "\tE => -2.3749267531093237\n",
      "\tParameters: [2.01543851 1.93783235 0.10549725 1.07255984] \n",
      "\tE => -2.3749467889209885\n",
      "\tParameters: [2.01964195 1.93340935 0.10536239 1.06624431] \n",
      "\tE => -2.3749507713708176\n",
      "\tParameters: [2.02291074 1.93644089 0.1051707  1.05528675] \n",
      "\tE => -2.3749666441259794\n",
      "\tParameters: [2.01696528 1.93515784 0.10549896 1.07162206] \n",
      "\tE => -2.3748749662636026\n",
      "\tParameters: [2.01481652 1.93425191 0.10555239 1.07354764] \n",
      "\tE => -2.374875258856683\n",
      "\tParameters: [2.01701107 1.93632367 0.10544668 1.06961751] \n",
      "\tE => -2.375001007200038\n",
      "\tParameters: [2.01620986 1.93767781 0.10547198 1.06879267] \n",
      "\tE => -2.3749666476083244\n",
      "\tParameters: [2.01958071 1.93614685 0.1053316  1.06309086] \n",
      "\tE => -2.375029820606372\n",
      "\tParameters: [2.01678306 1.9379845  0.10535406 1.06304239] \n",
      "\tE => -2.3750706104833457\n",
      "\tParameters: [2.01678306 1.9379845  0.10535406 1.06304239] \n",
      "\tE => -2.3750374191703716\n",
      "Values of betas: [2.01678306 1.9379845 ]\n",
      "Values of gammas: [0.10535406 1.06304239]\n"
     ]
    }
   ],
   "source": [
    "print(\"I finally got it to work on a notebook!\\n Still have to figure out how to get it to run on Spyder or some other interpreter (instead of a notebook) - Joost\\n\\n\")\n",
    "\n",
    "# Setting p (the number of angles, in the maxcut_qaoa method this is called 'steps')\n",
    "p = 2 \n",
    "\n",
    "# We initialize the maxcut_qaoa object with our graph\n",
    "maxcut_solver = maxcut_qaoa(graph=first_graph, steps=p)\n",
    "# The QAOA algorithm tries to find the optimal values of betas and gammas.\n",
    "# This line is where all the optimization takes place.\n",
    "\n",
    "betas, gammas = maxcut_solver.get_angles()\n",
    "print(\"Values of betas:\", betas)\n",
    "print(\"Values of gammas:\", gammas)"
   ]
  },
  {
   "cell_type": "code",
   "execution_count": 5,
   "metadata": {},
   "outputs": [
    {
     "name": "stdout",
     "output_type": "stream",
     "text": [
      "[1.12350186 1.86491149 4.08711688 4.3216614 ]\n"
     ]
    }
   ],
   "source": [
    "# We create an array of angles with correct format\n",
    "angles = np.hstack((betas, gammas))\n",
    "print(angles)"
   ]
  },
  {
   "cell_type": "markdown",
   "metadata": {},
   "source": [
    "The above values are the $2p$ angles necessary for our QAOA circuit. Look at the [code](https://github.com/rigetti/grove/blob/master/grove/pyqaoa/maxcut_qaoa.py) to find out what's happening exactly."
   ]
  },
  {
   "cell_type": "markdown",
   "metadata": {},
   "source": [
    "### Building the circuit\n",
    "using the angles we just determined, we can build the circuit and thereafter run it and analyze the results!"
   ]
  },
  {
   "cell_type": "code",
   "execution_count": 6,
   "metadata": {},
   "outputs": [
    {
     "name": "stdout",
     "output_type": "stream",
     "text": [
      "H 0\n",
      "H 1\n",
      "H 2\n",
      "H 3\n",
      "CNOT 0 1\n",
      "RZ(4.087116878530143) 1\n",
      "CNOT 0 1\n",
      "X 0\n",
      "PHASE(2.0435584392650714) 0\n",
      "X 0\n",
      "PHASE(2.0435584392650714) 0\n",
      "CNOT 0 2\n",
      "RZ(4.087116878530143) 2\n",
      "CNOT 0 2\n",
      "X 0\n",
      "PHASE(2.0435584392650714) 0\n",
      "X 0\n",
      "PHASE(2.0435584392650714) 0\n",
      "CNOT 0 3\n",
      "RZ(4.087116878530143) 3\n",
      "CNOT 0 3\n",
      "X 0\n",
      "PHASE(2.0435584392650714) 0\n",
      "X 0\n",
      "PHASE(2.0435584392650714) 0\n",
      "H 0\n",
      "RZ(-2.2470037160434018) 0\n",
      "H 0\n",
      "H 1\n",
      "RZ(-2.2470037160434018) 1\n",
      "H 1\n",
      "H 2\n",
      "RZ(-2.2470037160434018) 2\n",
      "H 2\n",
      "H 3\n",
      "RZ(-2.2470037160434018) 3\n",
      "H 3\n",
      "CNOT 0 1\n",
      "RZ(4.3216613997666204) 1\n",
      "CNOT 0 1\n",
      "X 0\n",
      "PHASE(2.1608306998833102) 0\n",
      "X 0\n",
      "PHASE(2.1608306998833102) 0\n",
      "CNOT 0 2\n",
      "RZ(4.3216613997666204) 2\n",
      "CNOT 0 2\n",
      "X 0\n",
      "PHASE(2.1608306998833102) 0\n",
      "X 0\n",
      "PHASE(2.1608306998833102) 0\n",
      "CNOT 0 3\n",
      "RZ(4.3216613997666204) 3\n",
      "CNOT 0 3\n",
      "X 0\n",
      "PHASE(2.1608306998833102) 0\n",
      "X 0\n",
      "PHASE(2.1608306998833102) 0\n",
      "H 0\n",
      "RZ(-3.7298229838219203) 0\n",
      "H 0\n",
      "H 1\n",
      "RZ(-3.7298229838219203) 1\n",
      "H 1\n",
      "H 2\n",
      "RZ(-3.7298229838219203) 2\n",
      "H 2\n",
      "H 3\n",
      "RZ(-3.7298229838219203) 3\n",
      "H 3\n",
      "\n",
      "Number of gates: 70\n"
     ]
    }
   ],
   "source": [
    "# We take a template for quil program from the maxcut_solver.\n",
    "param_prog = maxcut_solver.get_parameterized_program()\n",
    "# We initialize this program with the angles we have found\n",
    "prog = param_prog(angles)\n",
    "# Now we can print the program. \n",
    "# Some of the values you see here are the angles we calculated earlier.\n",
    "print(prog)\n",
    "print(\"Number of gates:\", len(prog))"
   ]
  },
  {
   "cell_type": "markdown",
   "metadata": {},
   "source": [
    "This is the circuit. Currently, not too appealing (visually) but I'll find a fix for that."
   ]
  },
  {
   "cell_type": "code",
   "execution_count": 7,
   "metadata": {},
   "outputs": [],
   "source": [
    "# These are just the ids of qubits we want to use.\n",
    "# It's not very important if you don't use the real QPU.\n",
    "qubits = [0, 1, 2, 3]\n",
    "# Here we connect to the Forest API and run our program there.\n",
    "# We do that 1000 times and after each one we measure the output.\n",
    "measurements = qvm_connection.run_and_measure(prog, qubits, trials=1000)"
   ]
  },
  {
   "cell_type": "markdown",
   "metadata": {},
   "source": [
    "### Results"
   ]
  },
  {
   "cell_type": "code",
   "execution_count": 8,
   "metadata": {},
   "outputs": [
    {
     "data": {
      "text/plain": [
       "[((0, 1, 1, 1), 450),\n",
       " ((1, 0, 0, 0), 434),\n",
       " ((0, 0, 0, 1), 17),\n",
       " ((1, 1, 0, 1), 16),\n",
       " ((1, 1, 1, 0), 16),\n",
       " ((0, 1, 0, 0), 15),\n",
       " ((0, 0, 1, 0), 12),\n",
       " ((1, 0, 1, 1), 12),\n",
       " ((0, 1, 0, 1), 8),\n",
       " ((0, 1, 1, 0), 6),\n",
       " ((0, 0, 1, 1), 4),\n",
       " ((1, 0, 1, 0), 4),\n",
       " ((1, 1, 0, 0), 2),\n",
       " ((1, 1, 1, 1), 2),\n",
       " ((1, 0, 0, 1), 1),\n",
       " ((0, 0, 0, 0), 1)]"
      ]
     },
     "execution_count": 8,
     "metadata": {},
     "output_type": "execute_result"
    }
   ],
   "source": [
    "# Since list of 1000 elements is hard to analyze, we use Counter\n",
    "from collections import Counter\n",
    "# This is just a hack - we can't use Counter on a list of lists but we can on a list of tuples.\n",
    "measurements = [tuple(measurement) for measurement in measurements]\n",
    "measurements_counter = Counter(measurements)\n",
    "# This line gives us the results in the diminishing order\n",
    "measurements_counter.most_common()"
   ]
  },
  {
   "cell_type": "code",
   "execution_count": 9,
   "metadata": {},
   "outputs": [
    {
     "name": "stdout",
     "output_type": "stream",
     "text": [
      "(-0.005167255+0.0291342097j)|0000> + (0.536015815+0.4012538237j)|0001> + (0.1180261445+0.016008441j)|0010> + (0.0439381111-0.0286118658j)|0011> + (0.1180261445+0.016008441j)|0100> + (0.0439381111-0.0286118658j)|0101> + (0.0439381111-0.0286118658j)|0110> + (0.1180261445+0.016008441j)|0111> + (0.1180261445+0.016008441j)|1000> + (0.0439381111-0.0286118658j)|1001> + (0.0439381111-0.0286118658j)|1010> + (0.1180261445+0.016008441j)|1011> + (0.0439381111-0.0286118658j)|1100> + (0.1180261445+0.016008441j)|1101> + (0.536015815+0.4012538237j)|1110> + (-0.005167255+0.0291342097j)|1111>\n"
     ]
    }
   ],
   "source": [
    "wf = qvm_connection.wavefunction(prog)\n",
    "print(wf)"
   ]
  },
  {
   "cell_type": "code",
   "execution_count": 10,
   "metadata": {},
   "outputs": [
    {
     "name": "stdout",
     "output_type": "stream",
     "text": [
      "Probability amplitudes for all the possible states:\n",
      "0000 (-0.005167254970244672+0.029134209674235342j)\n",
      "0001 (0.5360158150263034+0.40125382367314666j)\n",
      "0010 (0.11802614452458215+0.01600844103051062j)\n",
      "0011 (0.04393811106260566-0.02861186580279597j)\n",
      "0100 (0.11802614452458211+0.01600844103051064j)\n",
      "0101 (0.043938111062605534-0.028611865802795997j)\n",
      "0110 (0.04393811106260567-0.028611865802795927j)\n",
      "0111 (0.11802614452458213+0.016008441030510613j)\n",
      "1000 (0.11802614452458213+0.016008441030510613j)\n",
      "1001 (0.04393811106260567-0.028611865802795927j)\n",
      "1010 (0.043938111062605534-0.028611865802795997j)\n",
      "1011 (0.11802614452458211+0.01600844103051064j)\n",
      "1100 (0.04393811106260566-0.02861186580279597j)\n",
      "1101 (0.11802614452458215+0.01600844103051062j)\n",
      "1110 (0.5360158150263034+0.40125382367314666j)\n",
      "1111 (-0.005167254970244672+0.029134209674235342j)\n"
     ]
    }
   ],
   "source": [
    "print(\"Probability amplitudes for all the possible states:\")\n",
    "for state_index in range(maxcut_solver.nstates):\n",
    "    print(maxcut_solver.states[state_index], wf[state_index])"
   ]
  },
  {
   "cell_type": "code",
   "execution_count": 11,
   "metadata": {},
   "outputs": [
    {
     "name": "stdout",
     "output_type": "stream",
     "text": [
      "Probabilities of measuring given states:\n",
      "0000 0.0008755026972698265\n",
      "0001 0.4483175849706329\n",
      "0010 0.01418644097556489\n",
      "0011 0.0027491964684670752\n",
      "0100 0.01418644097556488\n",
      "0101 0.0027491964684670657\n",
      "0110 0.002749196468467074\n",
      "0111 0.014186440975564884\n",
      "1000 0.014186440975564884\n",
      "1001 0.002749196468467074\n",
      "1010 0.0027491964684670657\n",
      "1011 0.01418644097556488\n",
      "1100 0.0027491964684670752\n",
      "1101 0.01418644097556489\n",
      "1110 0.4483175849706329\n",
      "1111 0.0008755026972698265\n"
     ]
    }
   ],
   "source": [
    "print(\"Probabilities of measuring given states:\")\n",
    "states_with_probs = []\n",
    "for state_index in range(maxcut_solver.nstates):\n",
    "    states_with_probs.append([maxcut_solver.states[state_index], np.real(np.conj(wf[state_index])*wf[state_index])])\n",
    "    print(states_with_probs[-1][0], states_with_probs[-1][1])"
   ]
  },
  {
   "cell_type": "code",
   "execution_count": 12,
   "metadata": {},
   "outputs": [],
   "source": [
    "import matplotlib.pyplot as plt\n",
    "\n",
    "def plot_state_histogram(states_with_probs):\n",
    "    states = np.array(states_with_probs)[:,0]\n",
    "    probs = np.array(states_with_probs)[:,1].astype(float)\n",
    "    n = len(states_with_probs)\n",
    "    plt.barh(range(n), probs, tick_label=states)\n",
    "    plt.show()"
   ]
  },
  {
   "cell_type": "code",
   "execution_count": 13,
   "metadata": {},
   "outputs": [
    {
     "data": {
      "image/png": "[encoded data removed]",
      "text/plain": [
       "<Figure size 432x288 with 1 Axes>"
      ]
     },
     "metadata": {
      "needs_background": "light"
     },
     "output_type": "display_data"
    }
   ],
   "source": [
    "plot_state_histogram(states_with_probs)"
   ]
  },
  {
   "cell_type": "code",
   "execution_count": 14,
   "metadata": {},
   "outputs": [
    {
     "name": "stdout",
     "output_type": "stream",
     "text": [
      "Optimal bitstring is found to be 0001, found with probability 0.4483175849706329\n",
      "We used p =  2\n"
     ]
    }
   ],
   "source": [
    "opt_x, prob_x = sorted(states_with_probs,key=lambda x: x[1], reverse=True)[0]\n",
    "\n",
    "print(\"Optimal bitstring is found to be \"+ opt_x +\", found with probability \"+str(prob_x))\n",
    "print(\"We used p = \",p)"
   ]
  },
  {
   "cell_type": "code",
   "execution_count": 15,
   "metadata": {},
   "outputs": [
    {
     "name": "stdout",
     "output_type": "stream",
     "text": [
      "[0, 0, 0, 1]\n"
     ]
    },
    {
     "data": {
      "image/png": "[encoded data removed]",
      "text/plain": [
       "<Figure size 432x288 with 1 Axes>"
      ]
     },
     "metadata": {},
     "output_type": "display_data"
    }
   ],
   "source": [
    "cut = [int(x) for x in list(opt_x)]\n",
    "print(cut)\n",
    "\n",
    "#plotting the graph\n",
    "pos=nx.spring_layout(G)\n",
    "nx.draw(G,pos=pos)\n",
    "labels = nx.draw_networkx_labels(G, pos=pos)"
   ]
  }
 ],
 "metadata": {
  "kernelspec": {
   "display_name": "bep_pyquil",
   "language": "python",
   "name": "bep_pyquil"
  },
  "language_info": {
   "codemirror_mode": {
    "name": "ipython",
    "version": 3
   },
   "file_extension": ".py",
   "mimetype": "text/x-python",
   "name": "python",
   "nbconvert_exporter": "python",
   "pygments_lexer": "ipython3",
   "version": "3.6.10"
  }
 },
 "nbformat": 4,
 "nbformat_minor": 2
}
